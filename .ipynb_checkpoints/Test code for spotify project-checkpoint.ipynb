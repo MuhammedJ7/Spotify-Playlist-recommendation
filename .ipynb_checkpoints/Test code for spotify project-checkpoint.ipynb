{
 "cells": [
  {
   "cell_type": "code",
   "execution_count": 1,
   "id": "7fcecd8a",
   "metadata": {},
   "outputs": [
    {
     "data": {
      "text/plain": [
       "<networkx.classes.graph.Graph at 0x14e891203d0>"
      ]
     },
     "execution_count": 1,
     "metadata": {},
     "output_type": "execute_result"
    }
   ],
   "source": [
    "import pandas as pd\n",
    "import networkx as nx\n",
    "import matplotlib.pyplot as plt\n",
    "from scipy import sparse \n",
    "\n",
    "G = pd.read_pickle('bigger_graph.pickle')\n",
    "G"
   ]
  },
  {
   "cell_type": "code",
   "execution_count": 9,
   "id": "8fbcd25d",
   "metadata": {},
   "outputs": [
    {
     "name": "stdout",
     "output_type": "stream",
     "text": [
      "Top 3 neighbors of node 'spotify:track:3kxfsdsCpFgN412fpnW85Y' with their weights:\n",
      "spotify:track:152lZdxL1OR0ZMW6KquMif: 8\n",
      "spotify:track:7hDc8b7IXETo14hHIHdnhd: 6\n",
      "spotify:track:343YBumqHu19cGoGARUTsd: 5\n"
     ]
    }
   ],
   "source": [
    "import pandas as pd\n",
    "import networkx as nx\n",
    "\n",
    "# Assuming G is your graph loaded from 'bigger_graph.pickle'\n",
    "G = pd.read_pickle('bigger_graph.pickle')\n",
    "\n",
    "def top_neighbors(graph, node, top_n=3):\n",
    "    \"\"\"\n",
    "    Returns the top N neighbors of a given node based on edge weights.\n",
    "    \n",
    "    Parameters:\n",
    "    - graph (networkx.Graph): The graph object.\n",
    "    - node (any hashable): The node for which to find the top neighbors.\n",
    "    - top_n (int): The number of top neighbors to return.\n",
    "    \n",
    "    Returns:\n",
    "    - list: A list of tuples, where each tuple contains a neighbor node and its weight.\n",
    "    \"\"\"\n",
    "    # Get all neighbors of the node along with their weights\n",
    "    neighbors = graph.adj[node]\n",
    "    \n",
    "    # Sort the neighbors by weight in descending order\n",
    "    sorted_neighbors = sorted(neighbors.items(), key=lambda x: x[1]['weight'], reverse=True)\n",
    "    \n",
    "    # Return the top N neighbors\n",
    "    return sorted_neighbors[:top_n]\n",
    "\n",
    "# Example usage\n",
    "node = 'spotify:track:3kxfsdsCpFgN412fpnW85Y'# Replace with an actual node name from your graph\n",
    "top_neighbors_list = top_neighbors(G, node, top_n=3)\n",
    "print(f\"Top 3 neighbors of node '{node}' with their weights:\")\n",
    "for neighbor, data in top_neighbors_list:\n",
    "    print(f\"{neighbor}: {data['weight']}\")\n"
   ]
  }
 ],
 "metadata": {
  "kernelspec": {
   "display_name": "Python 3 (ipykernel)",
   "language": "python",
   "name": "python3"
  },
  "language_info": {
   "codemirror_mode": {
    "name": "ipython",
    "version": 3
   },
   "file_extension": ".py",
   "mimetype": "text/x-python",
   "name": "python",
   "nbconvert_exporter": "python",
   "pygments_lexer": "ipython3",
   "version": "3.9.18"
  }
 },
 "nbformat": 4,
 "nbformat_minor": 5
}
