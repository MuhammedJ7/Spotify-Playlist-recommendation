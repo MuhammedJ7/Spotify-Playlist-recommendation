{
 "cells": [
  {
   "cell_type": "code",
   "execution_count": null,
   "id": "bfa22494",
   "metadata": {},
   "outputs": [],
   "source": [
    "import spotipy\n",
    "from spotipy.oauth2 import SpotifyClientCredentials\n",
    "from sklearn.feature_extraction.text import CountVectorizer\n",
    "import time\n",
    "\n",
    "G = pd.read_pickle('bigger_graph.pickle')\n",
    "\n",
    "# Authentication - without user\n",
    "client_credentials_manager = SpotifyClientCredentials(client_id='2c79005a25ff450fa2c58921fbfe370f', client_secret='e6576447735343e28e391f30a16a9204')\n",
    "sp = spotipy.Spotify(client_credentials_manager = client_credentials_manager)\n",
    "\n",
    "cache = {}\n",
    "\n",
    "# Assume that the nodes in the graph G are Spotify track IDs\n",
    "for node in G.nodes():\n",
    "    # Check if the node information is in the cache\n",
    "    if node in cache:\n",
    "        properties = cache[node]\n",
    "    else:\n",
    "        # Get the track information from Spotify API\n",
    "        track_info = sp.track(node)\n",
    "        audio_features = sp.audio_features(node)[0]\n",
    "        \n",
    "        # Choose the properties you are interested in\n",
    "        properties = {\n",
    "            'name': track_info['name'],\n",
    "            'popularity': track_info['popularity'],\n",
    "            'duration_ms': track_info['duration_ms'],\n",
    "            'danceability': audio_features['danceability'],\n",
    "            'energy': audio_features['energy'],\n",
    "            'key': audio_features['key'],\n",
    "            'loudness': audio_features['loudness'],\n",
    "            'mode': audio_features['mode'],\n",
    "            'speechiness': audio_features['speechiness'],\n",
    "            'acousticness': audio_features['acousticness'],\n",
    "            'instrumentalness': audio_features['instrumentalness'],\n",
    "            'liveness': audio_features['liveness'],\n",
    "            'valence': audio_features['valence'],\n",
    "            'tempo': audio_features['tempo']\n",
    "        }\n",
    "        \n",
    "        # Add the properties to the cache\n",
    "        cache[node] = properties\n",
    "\n",
    "        # Sleep for 0.1 seconds to respect the rate limit\n",
    "        time.sleep(1)\n",
    "    \n",
    "    # Add these properties to the node in the graph\n",
    "    G.nodes[node]['properties'] = properties\n",
    "\n",
    "# Vectorise these attributes\n",
    "vectorizer = CountVectorizer()\n",
    "X = vectorizer.fit_transform([str(G.nodes[node]['properties']) for node in G.nodes()])\n"
   ]
  }
 ],
 "metadata": {
  "kernelspec": {
   "display_name": "Python 3 (ipykernel)",
   "language": "python",
   "name": "python3"
  },
  "language_info": {
   "codemirror_mode": {
    "name": "ipython",
    "version": 3
   },
   "file_extension": ".py",
   "mimetype": "text/x-python",
   "name": "python",
   "nbconvert_exporter": "python",
   "pygments_lexer": "ipython3",
   "version": "3.9.18"
  }
 },
 "nbformat": 4,
 "nbformat_minor": 5
}
